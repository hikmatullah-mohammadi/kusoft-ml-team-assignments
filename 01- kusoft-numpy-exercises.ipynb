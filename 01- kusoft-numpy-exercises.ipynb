{
 "cells": [
  {
   "cell_type": "markdown",
   "id": "accepted-potter",
   "metadata": {},
   "source": [
    "# Practice Numpy"
   ]
  },
  {
   "cell_type": "markdown",
   "id": "plain-martin",
   "metadata": {},
   "source": [
    "**Kusoft Machine Learning team first assignment.**"
   ]
  },
  {
   "cell_type": "markdown",
   "id": "silver-italic",
   "metadata": {},
   "source": [
    "Subject: Numpy<br>\n",
    "Deadline: Friday, Feb 3, 11:59 PM"
   ]
  },
  {
   "cell_type": "markdown",
   "id": "democratic-visit",
   "metadata": {},
   "source": [
    "After downloading this notebook, work on the exercises bellow, and submit your solution before the deadline.<br>\n",
    "To clone the whole repository in your local machine, you can run the command bellow in your command line; please note than you must have *Git* installed in your machine in order for the command bellow to run successfully. Or you can download it using *Github Ui*.<br>\n",
    "`git clone https://github.com/hikmatullah-mohammadi/kusoft-ml-team-assignments`"
   ]
  },
  {
   "cell_type": "code",
   "execution_count": 1,
   "id": "growing-nightmare",
   "metadata": {},
   "outputs": [],
   "source": [
    "# import 'numpy'\n",
    "import numpy as np"
   ]
  },
  {
   "cell_type": "markdown",
   "id": "split-enhancement",
   "metadata": {},
   "source": [
    "# 1- Data"
   ]
  },
  {
   "cell_type": "markdown",
   "id": "actual-filling",
   "metadata": {},
   "source": [
    "Let's creat an array called *data*. The ***data*** array has a shape of (99, 9). Each column is comprised of 99 multiples of the corresponding headers i.e. 1, 2, 3, 4, 5, 6, 7, 8, 9. In other words, column 1 is comprised of 99 multiples of 1, etc."
   ]
  },
  {
   "cell_type": "code",
   "execution_count": 2,
   "id": "worse-brazil",
   "metadata": {},
   "outputs": [
    {
     "data": {
      "text/plain": [
       "(99, 9)"
      ]
     },
     "execution_count": 2,
     "metadata": {},
     "output_type": "execute_result"
    }
   ],
   "source": [
    "# create a dataset\n",
    "col_1 = np.arange(1, 100)\n",
    "col_2 = np.arange(2, 200, 2)\n",
    "col_3 = np.arange(3, 300, 3)\n",
    "col_4 = np.arange(4, 400, 4)\n",
    "col_5 = np.arange(5, 500, 5)\n",
    "col_6 = np.arange(6, 600, 6)\n",
    "col_7 = np.arange(7, 700, 7)\n",
    "col_8 = np.arange(8, 800, 8)\n",
    "col_9 = np.arange(9, 900, 9)\n",
    "\n",
    "data = np.array([col_1, col_2, col_3, col_4, col_5, col_6, col_7, col_8, col_9]).T\n",
    "data.shape"
   ]
  },
  {
   "cell_type": "code",
   "execution_count": 3,
   "id": "qualified-holiday",
   "metadata": {},
   "outputs": [
    {
     "data": {
      "text/plain": [
       "array([[ 1,  2,  3,  4,  5,  6,  7,  8,  9],\n",
       "       [ 2,  4,  6,  8, 10, 12, 14, 16, 18],\n",
       "       [ 3,  6,  9, 12, 15, 18, 21, 24, 27],\n",
       "       [ 4,  8, 12, 16, 20, 24, 28, 32, 36],\n",
       "       [ 5, 10, 15, 20, 25, 30, 35, 40, 45],\n",
       "       [ 6, 12, 18, 24, 30, 36, 42, 48, 54],\n",
       "       [ 7, 14, 21, 28, 35, 42, 49, 56, 63],\n",
       "       [ 8, 16, 24, 32, 40, 48, 56, 64, 72],\n",
       "       [ 9, 18, 27, 36, 45, 54, 63, 72, 81],\n",
       "       [10, 20, 30, 40, 50, 60, 70, 80, 90]])"
      ]
     },
     "execution_count": 3,
     "metadata": {},
     "output_type": "execute_result"
    }
   ],
   "source": [
    "data[:10]"
   ]
  },
  {
   "cell_type": "markdown",
   "id": "worst-vertex",
   "metadata": {},
   "source": [
    "# 2- Exercises"
   ]
  },
  {
   "cell_type": "markdown",
   "id": "different-county",
   "metadata": {},
   "source": [
    "#### 1)"
   ]
  },
  {
   "cell_type": "markdown",
   "id": "sticky-gothic",
   "metadata": {},
   "source": [
    "Cosider *data* array and write Python code to extract and display only those **rows** with an index of **odd**. [HINT: use slicing].<br>\n",
    "**Example output:**\n",
    "```\n",
    "array([[  1,   2,   3,   4,   5,   6,   7,   8,   9],\n",
    "       [  3,   6,   9,  12,  15,  18,  21,  24,  27],\n",
    "       [  5,  10,  15,  20,  25,  30,  35,  40,  45],\n",
    "       [  7,  14,  21,  28,  35,  42,  49,  56,  63],\n",
    "       [  9,  18,  27,  36,  45,  54,  63,  72,  81],\n",
    "       [ 11,  22,  33,  44,  55,  66,  77,  88,  99],\n",
    "       ...\n",
    "```"
   ]
  },
  {
   "cell_type": "markdown",
   "id": "democratic-dancing",
   "metadata": {},
   "source": [
    "#### 2)"
   ]
  },
  {
   "cell_type": "markdown",
   "id": "portable-antibody",
   "metadata": {},
   "source": [
    "Considering the above mentioned array, *data*, write the python code to display only those **columns** of which headers are **even** numbers. [HINT: use slicing] <br>\n",
    "**Example output:**\n",
    "```\n",
    "array([[  2,   4,   6,   8],\n",
    "       [  4,   8,  12,  16],\n",
    "       [  6,  12,  18,  24],\n",
    "       [  8,  16,  24,  32],\n",
    "       [ 10,  20,  30,  40],\n",
    "       ...           \n",
    "```"
   ]
  },
  {
   "cell_type": "markdown",
   "id": "golden-import",
   "metadata": {},
   "source": [
    "#### 3)"
   ]
  },
  {
   "cell_type": "markdown",
   "id": "operational-disorder",
   "metadata": {},
   "source": [
    "In *data* array, first extract the column with an index of **2**, which consists of multiples of **3**. Then display those numbers in this column which are multiples of **9** as well. [HINT: use slicing & '%' sign].<br>\n",
    "**Output:**\n",
    "```\n",
    "array([  9,  18,  27,  36,  45,  54,  63,  72,  81,  90,  99, 108, 117,\n",
    "       126, 135, 144, 153, 162, 171, 180, 189, 198, 207, 216, 225, 234,\n",
    "       243, 252, 261, 270, 279, 288, 297])\n",
    "```"
   ]
  },
  {
   "cell_type": "markdown",
   "id": "mexican-poison",
   "metadata": {},
   "source": [
    "#### 4)"
   ]
  },
  {
   "cell_type": "markdown",
   "id": "expensive-values",
   "metadata": {},
   "source": [
    "Find the **index** of every row of which mean is a multiple of **3** (`x%3==0`). [HINT: use where() and mean() methods]. <br>\n",
    "Remember! You can find the mean of every row using this code snippet, `data.mean(axis=1)`.<br>\n",
    "**Output:**\n",
    "```\n",
    "(array([ 2,  5,  8, 11, 14, 17, 20, 23, 26, 29, 32, 35, 38, 41, 44, 47, 50,\n",
    "        53, 56, 59, 62, 65, 68, 71, 74, 77, 80, 83, 86, 89, 92, 95, 98],\n",
    "       dtype=int64),)\n",
    "```\n",
    "**Explanations:**<br>\n",
    "The mean of these rows are multiples of **3**."
   ]
  },
  {
   "cell_type": "markdown",
   "id": "intended-shift",
   "metadata": {},
   "source": [
    "#### 5) "
   ]
  },
  {
   "cell_type": "markdown",
   "id": "powerful-august",
   "metadata": {},
   "source": [
    "Consider the *data* array, and write the Python code to display the **index** of those **columns** of which **sums** are less than **20000**.<br>\n",
    "[HINT: You can use `data.sum(axis=0)` to find the sum of all columns.]<br>\n",
    "**Output:**\n",
    "```\n",
    "(array([0, 1, 2, 3], dtype=int64),)\n",
    "```\n",
    "**Explanations:**<br>\n",
    "The sums of columns with indices 0, 1, 2 and 3 are less than 20000.\n"
   ]
  },
  {
   "cell_type": "markdown",
   "id": "impressive-daisy",
   "metadata": {},
   "source": [
    "# Thanks:)"
   ]
  },
  {
   "cell_type": "code",
   "execution_count": null,
   "id": "owned-virus",
   "metadata": {},
   "outputs": [],
   "source": []
  }
 ],
 "metadata": {
  "kernelspec": {
   "display_name": "Python 3",
   "language": "python",
   "name": "python3"
  },
  "language_info": {
   "codemirror_mode": {
    "name": "ipython",
    "version": 3
   },
   "file_extension": ".py",
   "mimetype": "text/x-python",
   "name": "python",
   "nbconvert_exporter": "python",
   "pygments_lexer": "ipython3",
   "version": "3.8.3"
  }
 },
 "nbformat": 4,
 "nbformat_minor": 5
}
